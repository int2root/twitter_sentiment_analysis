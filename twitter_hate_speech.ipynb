{
 "cells": [
  {
   "cell_type": "markdown",
   "metadata": {},
   "source": [
    "# Help Twitter Combat Hate Speech Using NLP and Machine Learning\n",
    "\n",
    "## DESCRIPTION\n",
    "\n",
    "Using NLP and ML, make a model to identify hate speech (racist or sexist tweets) in Twitter.\n",
    "\n",
    "## Problem Statement:  \n",
    "\n",
    "Twitter is the biggest platform where anybody and everybody can have their views heard. Some of these voices spread hate and negativity. Twitter is wary of its platform being used as a medium  to spread hate. \n",
    "\n",
    "You are a data scientist at Twitter, and you will help Twitter in identifying the tweets with hate speech and removing them from the platform. You will use NLP techniques, perform specific cleanup for tweets data, and make a robust model.\n",
    "\n",
    "## Domain: Social Media\n",
    "\n",
    "Analysis to be done: Clean up tweets and build a classification model by using NLP techniques, cleanup specific for tweets data, regularization and hyperparameter tuning using stratified k-fold and cross validation to get the best model.\n",
    "\n",
    "## Content: \n",
    "\n",
    "* id: identifier number of the tweet\n",
    "\n",
    "* Label: 0 (non-hate) /1 (hate)\n",
    "\n",
    "* Tweet: the text in the tweet"
   ]
  },
  {
   "cell_type": "code",
   "execution_count": 1,
   "metadata": {},
   "outputs": [],
   "source": [
    "import re\n",
    "import collections\n",
    "import string\n",
    "import pandas as pd\n",
    "\n",
    "import nltk\n",
    "from nltk.corpus import stopwords\n",
    "from nltk.tokenize import TweetTokenizer\n",
    "\n",
    "import numpy as np\n",
    "from sklearn.model_selection import train_test_split\n",
    "from sklearn.linear_model import LogisticRegression\n",
    "from sklearn.metrics import f1_score, accuracy_score, recall_score\n",
    "from sklearn.model_selection import GridSearchCV, StratifiedKFold"
   ]
  },
  {
   "cell_type": "code",
   "execution_count": 2,
   "metadata": {},
   "outputs": [
    {
     "data": {
      "text/html": [
       "<div>\n",
       "<style scoped>\n",
       "    .dataframe tbody tr th:only-of-type {\n",
       "        vertical-align: middle;\n",
       "    }\n",
       "\n",
       "    .dataframe tbody tr th {\n",
       "        vertical-align: top;\n",
       "    }\n",
       "\n",
       "    .dataframe thead th {\n",
       "        text-align: right;\n",
       "    }\n",
       "</style>\n",
       "<table border=\"1\" class=\"dataframe\">\n",
       "  <thead>\n",
       "    <tr style=\"text-align: right;\">\n",
       "      <th></th>\n",
       "      <th>id</th>\n",
       "      <th>label</th>\n",
       "      <th>tweet</th>\n",
       "    </tr>\n",
       "  </thead>\n",
       "  <tbody>\n",
       "    <tr>\n",
       "      <th>0</th>\n",
       "      <td>1</td>\n",
       "      <td>0</td>\n",
       "      <td>@user when a father is dysfunctional and is s...</td>\n",
       "    </tr>\n",
       "    <tr>\n",
       "      <th>1</th>\n",
       "      <td>2</td>\n",
       "      <td>0</td>\n",
       "      <td>@user @user thanks for #lyft credit i can't us...</td>\n",
       "    </tr>\n",
       "    <tr>\n",
       "      <th>2</th>\n",
       "      <td>3</td>\n",
       "      <td>0</td>\n",
       "      <td>bihday your majesty</td>\n",
       "    </tr>\n",
       "    <tr>\n",
       "      <th>3</th>\n",
       "      <td>4</td>\n",
       "      <td>0</td>\n",
       "      <td>#model   i love u take with u all the time in ...</td>\n",
       "    </tr>\n",
       "    <tr>\n",
       "      <th>4</th>\n",
       "      <td>5</td>\n",
       "      <td>0</td>\n",
       "      <td>factsguide: society now    #motivation</td>\n",
       "    </tr>\n",
       "  </tbody>\n",
       "</table>\n",
       "</div>"
      ],
      "text/plain": [
       "   id  label                                              tweet\n",
       "0   1      0   @user when a father is dysfunctional and is s...\n",
       "1   2      0  @user @user thanks for #lyft credit i can't us...\n",
       "2   3      0                                bihday your majesty\n",
       "3   4      0  #model   i love u take with u all the time in ...\n",
       "4   5      0             factsguide: society now    #motivation"
      ]
     },
     "execution_count": 2,
     "metadata": {},
     "output_type": "execute_result"
    }
   ],
   "source": [
    "# 1. Load the tweets file using read_csv function from Pandas package.\n",
    "data = pd.read_csv('./data/TwitterHate.csv')\n",
    "data.head()"
   ]
  },
  {
   "cell_type": "code",
   "execution_count": 3,
   "metadata": {},
   "outputs": [
    {
     "data": {
      "text/plain": [
       "31962"
      ]
     },
     "execution_count": 3,
     "metadata": {},
     "output_type": "execute_result"
    }
   ],
   "source": [
    "# 2. Get the tweets into a list for easy text cleanup and manipulation.\n",
    "tweets = data['tweet'].values.tolist()\n",
    "len(tweets)"
   ]
  },
  {
   "cell_type": "code",
   "execution_count": 4,
   "metadata": {},
   "outputs": [
    {
     "data": {
      "text/html": [
       "<div>\n",
       "<style scoped>\n",
       "    .dataframe tbody tr th:only-of-type {\n",
       "        vertical-align: middle;\n",
       "    }\n",
       "\n",
       "    .dataframe tbody tr th {\n",
       "        vertical-align: top;\n",
       "    }\n",
       "\n",
       "    .dataframe thead th {\n",
       "        text-align: right;\n",
       "    }\n",
       "</style>\n",
       "<table border=\"1\" class=\"dataframe\">\n",
       "  <thead>\n",
       "    <tr style=\"text-align: right;\">\n",
       "      <th></th>\n",
       "      <th>id</th>\n",
       "      <th>label</th>\n",
       "      <th>tweet</th>\n",
       "    </tr>\n",
       "  </thead>\n",
       "  <tbody>\n",
       "    <tr>\n",
       "      <th>0</th>\n",
       "      <td>1</td>\n",
       "      <td>0</td>\n",
       "      <td>when a father is dysfunctional and is so sel...</td>\n",
       "    </tr>\n",
       "    <tr>\n",
       "      <th>1</th>\n",
       "      <td>2</td>\n",
       "      <td>0</td>\n",
       "      <td>thanks for #lyft credit i can't use cause th...</td>\n",
       "    </tr>\n",
       "    <tr>\n",
       "      <th>2</th>\n",
       "      <td>3</td>\n",
       "      <td>0</td>\n",
       "      <td>bihday your majesty</td>\n",
       "    </tr>\n",
       "    <tr>\n",
       "      <th>3</th>\n",
       "      <td>4</td>\n",
       "      <td>0</td>\n",
       "      <td>#model   i love u take with u all the time in ...</td>\n",
       "    </tr>\n",
       "    <tr>\n",
       "      <th>4</th>\n",
       "      <td>5</td>\n",
       "      <td>0</td>\n",
       "      <td>factsguide: society now    #motivation</td>\n",
       "    </tr>\n",
       "  </tbody>\n",
       "</table>\n",
       "</div>"
      ],
      "text/plain": [
       "   id  label                                              tweet\n",
       "0   1      0    when a father is dysfunctional and is so sel...\n",
       "1   2      0    thanks for #lyft credit i can't use cause th...\n",
       "2   3      0                                bihday your majesty\n",
       "3   4      0  #model   i love u take with u all the time in ...\n",
       "4   5      0             factsguide: society now    #motivation"
      ]
     },
     "execution_count": 4,
     "metadata": {},
     "output_type": "execute_result"
    }
   ],
   "source": [
    "#3. To cleanup: \n",
    "#   1. Normalize the casing.\n",
    "#   2. Using regular expressions, remove user handles. These begin with '@’.\n",
    "#   3. Using regular expressions, remove URLs.\n",
    "#   4. Using TweetTokenizer from NLTK, tokenize the tweets into individual terms.\n",
    "#   5. Remove stop words.\n",
    "#   6. Remove redundant terms like ‘amp’, ‘rt’, etc.\n",
    "#   7. Remove ‘#’ symbols from the tweet while retaining the term.\n",
    "\n",
    "def clean_text(df, text_field):\n",
    "    df[text_field] = df[text_field].str.lower() #1\n",
    "    df[text_field] = df[text_field].apply(lambda elem: re.sub(\"@[A-Za-z0-9]+\",\"\", elem)) #2\n",
    "    df[text_field] = df[text_field].apply(lambda elem: re.sub(r'^https?:\\/\\/.*[\\r\\n]*', '', elem)) #3\n",
    "    return df\n",
    "\n",
    "#3. #1,2,3\n",
    "clean_data = clean_text(data.copy(), 'tweet')\n",
    "clean_data.head()"
   ]
  },
  {
   "cell_type": "code",
   "execution_count": 5,
   "metadata": {},
   "outputs": [
    {
     "data": {
      "text/html": [
       "<div>\n",
       "<style scoped>\n",
       "    .dataframe tbody tr th:only-of-type {\n",
       "        vertical-align: middle;\n",
       "    }\n",
       "\n",
       "    .dataframe tbody tr th {\n",
       "        vertical-align: top;\n",
       "    }\n",
       "\n",
       "    .dataframe thead th {\n",
       "        text-align: right;\n",
       "    }\n",
       "</style>\n",
       "<table border=\"1\" class=\"dataframe\">\n",
       "  <thead>\n",
       "    <tr style=\"text-align: right;\">\n",
       "      <th></th>\n",
       "      <th>id</th>\n",
       "      <th>label</th>\n",
       "      <th>tweet</th>\n",
       "    </tr>\n",
       "  </thead>\n",
       "  <tbody>\n",
       "    <tr>\n",
       "      <th>0</th>\n",
       "      <td>1</td>\n",
       "      <td>0</td>\n",
       "      <td>[when, a, father, is, dysfunctional, and, is, ...</td>\n",
       "    </tr>\n",
       "    <tr>\n",
       "      <th>1</th>\n",
       "      <td>2</td>\n",
       "      <td>0</td>\n",
       "      <td>[thanks, for, #lyft, credit, i, can't, use, ca...</td>\n",
       "    </tr>\n",
       "    <tr>\n",
       "      <th>2</th>\n",
       "      <td>3</td>\n",
       "      <td>0</td>\n",
       "      <td>[bihday, your, majesty]</td>\n",
       "    </tr>\n",
       "    <tr>\n",
       "      <th>3</th>\n",
       "      <td>4</td>\n",
       "      <td>0</td>\n",
       "      <td>[#model, i, love, u, take, with, u, all, the, ...</td>\n",
       "    </tr>\n",
       "    <tr>\n",
       "      <th>4</th>\n",
       "      <td>5</td>\n",
       "      <td>0</td>\n",
       "      <td>[factsguide, :, society, now, #motivation]</td>\n",
       "    </tr>\n",
       "  </tbody>\n",
       "</table>\n",
       "</div>"
      ],
      "text/plain": [
       "   id  label                                              tweet\n",
       "0   1      0  [when, a, father, is, dysfunctional, and, is, ...\n",
       "1   2      0  [thanks, for, #lyft, credit, i, can't, use, ca...\n",
       "2   3      0                            [bihday, your, majesty]\n",
       "3   4      0  [#model, i, love, u, take, with, u, all, the, ...\n",
       "4   5      0         [factsguide, :, society, now, #motivation]"
      ]
     },
     "execution_count": 5,
     "metadata": {},
     "output_type": "execute_result"
    }
   ],
   "source": [
    "#3. #4\n",
    "tk = TweetTokenizer()\n",
    "clean_data['tweet'] = clean_data['tweet'].apply(lambda t: tk.tokenize(t))\n",
    "clean_data.head()"
   ]
  },
  {
   "cell_type": "code",
   "execution_count": 6,
   "metadata": {},
   "outputs": [
    {
     "data": {
      "text/html": [
       "<div>\n",
       "<style scoped>\n",
       "    .dataframe tbody tr th:only-of-type {\n",
       "        vertical-align: middle;\n",
       "    }\n",
       "\n",
       "    .dataframe tbody tr th {\n",
       "        vertical-align: top;\n",
       "    }\n",
       "\n",
       "    .dataframe thead th {\n",
       "        text-align: right;\n",
       "    }\n",
       "</style>\n",
       "<table border=\"1\" class=\"dataframe\">\n",
       "  <thead>\n",
       "    <tr style=\"text-align: right;\">\n",
       "      <th></th>\n",
       "      <th>id</th>\n",
       "      <th>label</th>\n",
       "      <th>tweet</th>\n",
       "    </tr>\n",
       "  </thead>\n",
       "  <tbody>\n",
       "    <tr>\n",
       "      <th>0</th>\n",
       "      <td>1</td>\n",
       "      <td>0</td>\n",
       "      <td>[father, dysfunctional, selfish, drags, kids, ...</td>\n",
       "    </tr>\n",
       "    <tr>\n",
       "      <th>1</th>\n",
       "      <td>2</td>\n",
       "      <td>0</td>\n",
       "      <td>[thanks, #lyft, credit, can't, use, cause, off...</td>\n",
       "    </tr>\n",
       "    <tr>\n",
       "      <th>2</th>\n",
       "      <td>3</td>\n",
       "      <td>0</td>\n",
       "      <td>[bihday, majesty]</td>\n",
       "    </tr>\n",
       "    <tr>\n",
       "      <th>3</th>\n",
       "      <td>4</td>\n",
       "      <td>0</td>\n",
       "      <td>[#model, love, u, take, u, time, urð, , , ±,...</td>\n",
       "    </tr>\n",
       "    <tr>\n",
       "      <th>4</th>\n",
       "      <td>5</td>\n",
       "      <td>0</td>\n",
       "      <td>[factsguide, :, society, #motivation]</td>\n",
       "    </tr>\n",
       "  </tbody>\n",
       "</table>\n",
       "</div>"
      ],
      "text/plain": [
       "   id  label                                              tweet\n",
       "0   1      0  [father, dysfunctional, selfish, drags, kids, ...\n",
       "1   2      0  [thanks, #lyft, credit, can't, use, cause, off...\n",
       "2   3      0                                  [bihday, majesty]\n",
       "3   4      0  [#model, love, u, take, u, time, urð, , , ±,...\n",
       "4   5      0              [factsguide, :, society, #motivation]"
      ]
     },
     "execution_count": 6,
     "metadata": {},
     "output_type": "execute_result"
    }
   ],
   "source": [
    "#3. #5 \n",
    "stop_words = set(stopwords.words('english'))\n",
    "clean_data['tweet'] = clean_data['tweet'].apply(lambda t: [w for w in t if not w in stop_words])\n",
    "clean_data.head()"
   ]
  },
  {
   "cell_type": "code",
   "execution_count": 7,
   "metadata": {},
   "outputs": [
    {
     "data": {
      "text/html": [
       "<div>\n",
       "<style scoped>\n",
       "    .dataframe tbody tr th:only-of-type {\n",
       "        vertical-align: middle;\n",
       "    }\n",
       "\n",
       "    .dataframe tbody tr th {\n",
       "        vertical-align: top;\n",
       "    }\n",
       "\n",
       "    .dataframe thead th {\n",
       "        text-align: right;\n",
       "    }\n",
       "</style>\n",
       "<table border=\"1\" class=\"dataframe\">\n",
       "  <thead>\n",
       "    <tr style=\"text-align: right;\">\n",
       "      <th></th>\n",
       "      <th>id</th>\n",
       "      <th>label</th>\n",
       "      <th>tweet</th>\n",
       "    </tr>\n",
       "  </thead>\n",
       "  <tbody>\n",
       "    <tr>\n",
       "      <th>0</th>\n",
       "      <td>1</td>\n",
       "      <td>0</td>\n",
       "      <td>[father, dysfunctional, selfish, drags, kids, ...</td>\n",
       "    </tr>\n",
       "    <tr>\n",
       "      <th>1</th>\n",
       "      <td>2</td>\n",
       "      <td>0</td>\n",
       "      <td>[thanks, lyft, credit, can't, use, cause, offe...</td>\n",
       "    </tr>\n",
       "    <tr>\n",
       "      <th>2</th>\n",
       "      <td>3</td>\n",
       "      <td>0</td>\n",
       "      <td>[bihday, majesty]</td>\n",
       "    </tr>\n",
       "    <tr>\n",
       "      <th>3</th>\n",
       "      <td>4</td>\n",
       "      <td>0</td>\n",
       "      <td>[model, love, u, take, u, time, urð, , , ±, ...</td>\n",
       "    </tr>\n",
       "    <tr>\n",
       "      <th>4</th>\n",
       "      <td>5</td>\n",
       "      <td>0</td>\n",
       "      <td>[factsguide, :, society, motivation]</td>\n",
       "    </tr>\n",
       "  </tbody>\n",
       "</table>\n",
       "</div>"
      ],
      "text/plain": [
       "   id  label                                              tweet\n",
       "0   1      0  [father, dysfunctional, selfish, drags, kids, ...\n",
       "1   2      0  [thanks, lyft, credit, can't, use, cause, offe...\n",
       "2   3      0                                  [bihday, majesty]\n",
       "3   4      0  [model, love, u, take, u, time, urð, , , ±, ...\n",
       "4   5      0               [factsguide, :, society, motivation]"
      ]
     },
     "execution_count": 7,
     "metadata": {},
     "output_type": "execute_result"
    }
   ],
   "source": [
    "#3. #6 #7\n",
    "clean_data['tweet'] = clean_data['tweet'].apply(lambda t: [w for w in t if not w in ['rt', 'amp']]) #6\n",
    "clean_data['tweet'] = clean_data['tweet'].apply(lambda t: [re.sub(r'#', '', w) for w in t]) #7\n",
    "clean_data.head()"
   ]
  },
  {
   "cell_type": "code",
   "execution_count": 8,
   "metadata": {},
   "outputs": [
    {
     "data": {
      "text/html": [
       "<div>\n",
       "<style scoped>\n",
       "    .dataframe tbody tr th:only-of-type {\n",
       "        vertical-align: middle;\n",
       "    }\n",
       "\n",
       "    .dataframe tbody tr th {\n",
       "        vertical-align: top;\n",
       "    }\n",
       "\n",
       "    .dataframe thead th {\n",
       "        text-align: right;\n",
       "    }\n",
       "</style>\n",
       "<table border=\"1\" class=\"dataframe\">\n",
       "  <thead>\n",
       "    <tr style=\"text-align: right;\">\n",
       "      <th></th>\n",
       "      <th>id</th>\n",
       "      <th>label</th>\n",
       "      <th>tweet</th>\n",
       "    </tr>\n",
       "  </thead>\n",
       "  <tbody>\n",
       "    <tr>\n",
       "      <th>0</th>\n",
       "      <td>1</td>\n",
       "      <td>0</td>\n",
       "      <td>[father, dysfunctional, selfish, drags, kids, ...</td>\n",
       "    </tr>\n",
       "    <tr>\n",
       "      <th>1</th>\n",
       "      <td>2</td>\n",
       "      <td>0</td>\n",
       "      <td>[thanks, lyft, credit, use, cause, offer, whee...</td>\n",
       "    </tr>\n",
       "    <tr>\n",
       "      <th>2</th>\n",
       "      <td>3</td>\n",
       "      <td>0</td>\n",
       "      <td>[bihday, majesty]</td>\n",
       "    </tr>\n",
       "    <tr>\n",
       "      <th>3</th>\n",
       "      <td>4</td>\n",
       "      <td>0</td>\n",
       "      <td>[model, love, take, time, urð]</td>\n",
       "    </tr>\n",
       "    <tr>\n",
       "      <th>4</th>\n",
       "      <td>5</td>\n",
       "      <td>0</td>\n",
       "      <td>[factsguide, society, motivation]</td>\n",
       "    </tr>\n",
       "  </tbody>\n",
       "</table>\n",
       "</div>"
      ],
      "text/plain": [
       "   id  label                                              tweet\n",
       "0   1      0  [father, dysfunctional, selfish, drags, kids, ...\n",
       "1   2      0  [thanks, lyft, credit, use, cause, offer, whee...\n",
       "2   3      0                                  [bihday, majesty]\n",
       "3   4      0                     [model, love, take, time, urð]\n",
       "4   5      0                  [factsguide, society, motivation]"
      ]
     },
     "execution_count": 8,
     "metadata": {},
     "output_type": "execute_result"
    }
   ],
   "source": [
    "# 4. Extra cleanup by removing terms with a length of 1.\n",
    "clean_data['tweet'] = clean_data['tweet'].apply(lambda t: [w for w in t if len(w) > 1])\n",
    "\n",
    "#and some more cleanup\n",
    "clean_data['tweet'] = clean_data['tweet'].apply(lambda t: [w for w in t if not w in string.punctuation])\n",
    "clean_data['tweet'] = clean_data['tweet'].apply(lambda t: [w for w in t if w.isalpha()])\n",
    "\n",
    "clean_data.head()"
   ]
  },
  {
   "cell_type": "code",
   "execution_count": 9,
   "metadata": {},
   "outputs": [
    {
     "name": "stdout",
     "output_type": "stream",
     "text": [
      "love :  2748\n",
      "day :  2276\n",
      "happy :  1684\n",
      "time :  1131\n",
      "life :  1118\n",
      "like :  1047\n",
      "today :  1013\n",
      "new :  994\n",
      "thankful :  946\n",
      "positive :  931\n"
     ]
    }
   ],
   "source": [
    "# 5. Check out the top terms in the tweets:\n",
    "#   1. First, get all the tokenized terms into one large list.\n",
    "#   2. Use the counter and find the 10 most common terms.\n",
    "\n",
    "tweet_words=clean_data['tweet'].values.tolist()\n",
    "tweet_words = [val for sublist in tweet_words for val in sublist]\n",
    "\n",
    "word_counter = collections.Counter(tweet_words)\n",
    "for word, count in word_counter.most_common(10):\n",
    "    print(word, \": \", count)"
   ]
  },
  {
   "cell_type": "code",
   "execution_count": 10,
   "metadata": {},
   "outputs": [],
   "source": [
    "# 6. Data formatting for predictive modeling:\n",
    "#   1. Join the tokens back to form strings. This will be required for the vectorizers.\n",
    "#   2. Assign x and y.\n",
    "#   3. Perform train_test_split using sklearn.\n",
    "\n",
    "# 6. 1.\n",
    "clean_data['tweet'] = clean_data['tweet'].str.join(' ')"
   ]
  },
  {
   "cell_type": "code",
   "execution_count": 11,
   "metadata": {},
   "outputs": [],
   "source": [
    "# 6. 2.\n",
    "X = clean_data[['tweet']]\n",
    "y = clean_data[['label']]"
   ]
  },
  {
   "cell_type": "code",
   "execution_count": 12,
   "metadata": {},
   "outputs": [
    {
     "name": "stdout",
     "output_type": "stream",
     "text": [
      "23971 7991 23971 7991\n"
     ]
    }
   ],
   "source": [
    "# 6. 3.\n",
    "X_train, X_test, y_train, y_test = train_test_split(X, y, test_size=0.25, random_state=42)\n",
    "print(len(X_train), len(X_test), len(y_train), len(y_test))"
   ]
  },
  {
   "cell_type": "code",
   "execution_count": 13,
   "metadata": {},
   "outputs": [
    {
     "name": "stdout",
     "output_type": "stream",
     "text": [
      "(23971, 1)\n",
      "(7991, 1)\n",
      "(23971, 1)\n",
      "(7991, 1)\n"
     ]
    }
   ],
   "source": [
    "print(X_train.shape)\n",
    "print(X_test.shape)\n",
    "print(y_train.shape)\n",
    "print(y_test.shape)"
   ]
  },
  {
   "cell_type": "code",
   "execution_count": 14,
   "metadata": {},
   "outputs": [
    {
     "data": {
      "text/plain": [
       "array([[0., 0., 0., ..., 0., 0., 0.],\n",
       "       [0., 0., 0., ..., 0., 0., 0.],\n",
       "       [0., 0., 0., ..., 0., 0., 0.],\n",
       "       ...,\n",
       "       [0., 0., 0., ..., 0., 0., 0.],\n",
       "       [0., 0., 0., ..., 0., 0., 0.],\n",
       "       [0., 0., 0., ..., 0., 0., 0.]])"
      ]
     },
     "execution_count": 14,
     "metadata": {},
     "output_type": "execute_result"
    }
   ],
   "source": [
    "# 7. We’ll use TF-IDF values for the terms as a feature to get into a vector space model.\n",
    "#   1. Import TF-IDF  vectorizer from sklearn.\n",
    "#   2. Instantiate with a maximum of 5000 terms in your vocabulary.\n",
    "#   3. Fit and apply on the train set.\n",
    "#   4. Apply on the test set.\n",
    "from sklearn.feature_extraction.text import TfidfVectorizer\n",
    "\n",
    "tfidf_vect = TfidfVectorizer(max_features=5000)\n",
    "X_train_tfidf = tfidf_vect.fit_transform(X_train['tweet'])\n",
    "\n",
    "X_test_tfidf = tfidf_vect.transform(X_test['tweet'])\n",
    "X_test_tfidf.toarray()"
   ]
  },
  {
   "cell_type": "code",
   "execution_count": 15,
   "metadata": {},
   "outputs": [
    {
     "name": "stdout",
     "output_type": "stream",
     "text": [
      "--------------On Train data----------------\n",
      "Accuracy:  0.9551124275165825\n",
      "Recall:  0.3778966131907308\n",
      "F1 Score:  0.5417376490630322\n",
      "--------------On Test data----------------\n",
      "Accuracy:  0.9504442497810036\n",
      "Recall:  0.32737030411449014\n",
      "F1 Score:  0.48031496062992124\n"
     ]
    }
   ],
   "source": [
    "#8. Model building: Ordinary Logistic Regression\n",
    "#   1. Instantiate Logistic Regression from sklearn with default parameters.\n",
    "#   2. Fit into  the train data.\n",
    "#   3. Make predictions for the train and the test set.\n",
    "\n",
    "#9. Model evaluation: Accuracy, recall, and f_1 score.\n",
    "#   1. Report the accuracy on the train set.\n",
    "#   2. Report the recall on the train set: decent, high, or low.\n",
    "#   3. Get the f1 score on the train set.\n",
    "\n",
    "lr = LogisticRegression()\n",
    "lr_model = lr.fit(X_train_tfidf, np.ravel(y_train))\n",
    "\n",
    "y_pred_train = lr.predict(X_train_tfidf)\n",
    "y_pred = lr_model.predict(X_test_tfidf)\n",
    "\n",
    "print(\"--------------On Train data----------------\")\n",
    "print(\"Accuracy: \", accuracy_score(y_train, y_pred_train))  \n",
    "print(\"Recall: \", recall_score(y_train,y_pred_train))\n",
    "print(\"F1 Score: \", f1_score(y_train,y_pred_train))  \n",
    "print(\"--------------On Test data----------------\")\n",
    "print(\"Accuracy: \", accuracy_score(y_test, y_pred))\n",
    "print(\"Recall: \", recall_score(y_test,y_pred))\n",
    "print(\"F1 Score: \", f1_score(y_test,y_pred)) "
   ]
  },
  {
   "cell_type": "code",
   "execution_count": 16,
   "metadata": {},
   "outputs": [
    {
     "name": "stdout",
     "output_type": "stream",
     "text": [
      "--------------On Train data----------------\n",
      "Accuracy:  0.9468941637812357\n",
      "Recall:  0.9714795008912656\n",
      "F1 Score:  0.7197886858903808\n",
      "--------------On Test data----------------\n",
      "Accuracy:  0.9241646852709298\n",
      "Recall:  0.7906976744186046\n",
      "F1 Score:  0.5932885906040268\n"
     ]
    }
   ],
   "source": [
    "#10. Looks like you need to adjust the class imbalance, as the model seems to focus on the 0s.\n",
    "#   1. Adjust the appropriate class in the LogisticRegression model.\n",
    "\n",
    "#11. Train again with the adjustment and evaluate.\n",
    "#   1. Train the model on the train set.\n",
    "#   2. Evaluate the predictions on the train set: accuracy, recall, and f_1 score.\n",
    "\n",
    "lr = LogisticRegression(class_weight=\"balanced\")\n",
    "lr_model = lr.fit(X_train_tfidf, np.ravel(y_train))\n",
    "\n",
    "y_pred_train = lr.predict(X_train_tfidf)\n",
    "y_pred = lr_model.predict(X_test_tfidf)\n",
    "\n",
    "print(\"--------------On Train data----------------\")\n",
    "print(\"Accuracy: \", accuracy_score(y_train, y_pred_train))  \n",
    "print(\"Recall: \", recall_score(y_train,y_pred_train))\n",
    "print(\"F1 Score: \", f1_score(y_train,y_pred_train))  \n",
    "print(\"--------------On Test data----------------\")\n",
    "print(\"Accuracy: \", accuracy_score(y_test, y_pred))\n",
    "print(\"Recall: \", recall_score(y_test,y_pred))\n",
    "print(\"F1 Score: \", f1_score(y_test,y_pred))  "
   ]
  },
  {
   "cell_type": "code",
   "execution_count": 17,
   "metadata": {},
   "outputs": [],
   "source": [
    "#12. Regularization and Hyperparameter tuning:\n",
    "#   1. Import GridSearch and StratifiedKFold because of class imbalance.\n",
    "#   2. Provide the parameter grid to choose for ‘C’ and ‘penalty’ parameters.\n",
    "#   3. Use a balanced class weight while instantiating the logistic regression.\n",
    "\n",
    "#13. Find the parameters with the best recall in cross validation.\n",
    "#   1. Choose ‘recall’ as the metric for scoring.\n",
    "#   2. Choose stratified 4 fold cross validation scheme.\n",
    "#   3. Fit into  the train set.\n",
    "\n",
    "#14. What are the best parameters?"
   ]
  },
  {
   "cell_type": "code",
   "execution_count": 18,
   "metadata": {},
   "outputs": [
    {
     "name": "stdout",
     "output_type": "stream",
     "text": [
      "\n",
      "1 of kfold 20\n",
      "{'C': 1.0, 'penalty': 'l2'}\n",
      "Recall:  0.7976190476190477\n",
      "\n",
      "2 of kfold 20\n",
      "{'C': 1.0, 'penalty': 'l2'}\n",
      "Recall:  0.7023809523809523\n",
      "\n",
      "3 of kfold 20\n",
      "{'C': 0.1, 'penalty': 'l2'}\n",
      "Recall:  0.7738095238095238\n",
      "\n",
      "4 of kfold 20\n",
      "{'C': 0.1, 'penalty': 'l2'}\n",
      "Recall:  0.75\n",
      "\n",
      "5 of kfold 20\n",
      "{'C': 1.0, 'penalty': 'l2'}\n",
      "Recall:  0.6785714285714286\n",
      "\n",
      "6 of kfold 20\n",
      "{'C': 1.0, 'penalty': 'l2'}\n",
      "Recall:  0.7023809523809523\n",
      "\n",
      "7 of kfold 20\n",
      "{'C': 1.0, 'penalty': 'l2'}\n",
      "Recall:  0.8452380952380952\n",
      "\n",
      "8 of kfold 20\n",
      "{'C': 0.1, 'penalty': 'l2'}\n",
      "Recall:  0.7976190476190477\n",
      "\n",
      "9 of kfold 20\n",
      "{'C': 1.0, 'penalty': 'l2'}\n",
      "Recall:  0.8470588235294118\n",
      "\n",
      "10 of kfold 20\n",
      "{'C': 1.0, 'penalty': 'l2'}\n",
      "Recall:  0.8470588235294118\n",
      "\n",
      "11 of kfold 20\n",
      "{'C': 1.0, 'penalty': 'l2'}\n",
      "Recall:  0.7764705882352941\n",
      "\n",
      "12 of kfold 20\n",
      "{'C': 1.0, 'penalty': 'l2'}\n",
      "Recall:  0.8571428571428571\n",
      "\n",
      "13 of kfold 20\n",
      "{'C': 1.0, 'penalty': 'l2'}\n",
      "Recall:  0.75\n",
      "\n",
      "14 of kfold 20\n",
      "{'C': 1.0, 'penalty': 'l2'}\n",
      "Recall:  0.7261904761904762\n",
      "\n",
      "15 of kfold 20\n",
      "{'C': 1.0, 'penalty': 'l2'}\n",
      "Recall:  0.8095238095238095\n",
      "\n",
      "16 of kfold 20\n",
      "{'C': 0.1, 'penalty': 'l2'}\n",
      "Recall:  0.9047619047619048\n",
      "\n",
      "17 of kfold 20\n",
      "{'C': 1.0, 'penalty': 'l2'}\n",
      "Recall:  0.8333333333333334\n",
      "\n",
      "18 of kfold 20\n",
      "{'C': 0.1, 'penalty': 'l2'}\n",
      "Recall:  0.8333333333333334\n",
      "\n",
      "19 of kfold 20\n",
      "{'C': 0.1, 'penalty': 'l2'}\n",
      "Recall:  0.7738095238095238\n",
      "\n",
      "20 of kfold 20\n",
      "{'C': 0.1, 'penalty': 'l2'}\n",
      "Recall:  0.8095238095238095\n",
      "Best Params:  {'C': 0.1, 'penalty': 'l2'}\n"
     ]
    }
   ],
   "source": [
    "X = X_train_tfidf\n",
    "y = np.ravel(y_train)\n",
    "\n",
    "param_grid = [{'C': [10, 5.0, 1.0, 0.1], 'penalty': ['l1', 'l2']}]\n",
    "\n",
    "best = {}\n",
    "bestrecall = 0;\n",
    "i=1\n",
    "kf = StratifiedKFold(n_splits=20, random_state=1,shuffle=True)\n",
    "for train_index,test_index in kf.split(X,y):\n",
    "     print('\\n{} of kfold {}'.format(i,kf.n_splits))\n",
    "     xtr,xvl = X[train_index],X[test_index]\n",
    "     ytr,yvl = y[train_index],y[test_index]\n",
    "     model = GridSearchCV(LogisticRegression(class_weight=\"balanced\", solver='liblinear', max_iter=1000), param_grid, scoring='recall', n_jobs=-1)\n",
    "     model.fit(xtr, ytr)\n",
    "     print (model.best_params_)\n",
    "     pred=model.predict(xvl)\n",
    "     recall = recall_score(yvl,pred)\n",
    "     print(\"Recall: \", recall)\n",
    "     if recall > bestrecall:\n",
    "            bestrecall = recall\n",
    "            best = model.best_params_\n",
    "     i+=1\n",
    "    \n",
    "print(\"Best Params: \", best) #14"
   ]
  },
  {
   "cell_type": "code",
   "execution_count": 19,
   "metadata": {},
   "outputs": [],
   "source": [
    "#15. Predict and evaluate using the best estimator.\n",
    "#   1. Use the best estimator from the grid search to make predictions on the test set.\n",
    "#   2. What is the recall on the test set for the toxic comments?\n",
    "#   3. What is the f_1 score?"
   ]
  },
  {
   "cell_type": "code",
   "execution_count": 22,
   "metadata": {},
   "outputs": [
    {
     "name": "stdout",
     "output_type": "stream",
     "text": [
      "--------------On Train data----------------\n",
      "Accuracy:  0.9307496558341329\n",
      "Recall:  0.9073083778966132\n",
      "F1 Score:  0.6478574459058125\n",
      "--------------On Test data----------------\n",
      "Accuracy:  0.914779126517332\n",
      "Recall:  0.7817531305903399\n",
      "F1 Score:  0.5620578778135048\n"
     ]
    }
   ],
   "source": [
    "lr = LogisticRegression(C=0.1,penalty='l2',class_weight=\"balanced\")\n",
    "lr_model = lr.fit(X_train_tfidf, np.ravel(y_train))\n",
    "\n",
    "y_pred_train = lr.predict(X_train_tfidf)\n",
    "y_pred = lr_model.predict(X_test_tfidf)\n",
    "\n",
    "print(\"--------------On Train data----------------\")\n",
    "print(\"Accuracy: \", accuracy_score(y_train, y_pred_train))  \n",
    "print(\"Recall: \", recall_score(y_train,y_pred_train))\n",
    "print(\"F1 Score: \", f1_score(y_train,y_pred_train))  \n",
    "print(\"--------------On Test data----------------\")\n",
    "print(\"Accuracy: \", accuracy_score(y_test, y_pred))\n",
    "print(\"Recall: \", recall_score(y_test,y_pred))\n",
    "print(\"F1 Score: \", f1_score(y_test,y_pred))  "
   ]
  },
  {
   "cell_type": "code",
   "execution_count": null,
   "metadata": {},
   "outputs": [],
   "source": []
  }
 ],
 "metadata": {
  "kernelspec": {
   "display_name": "Python 3",
   "language": "python",
   "name": "python3"
  },
  "language_info": {
   "codemirror_mode": {
    "name": "ipython",
    "version": 3
   },
   "file_extension": ".py",
   "mimetype": "text/x-python",
   "name": "python",
   "nbconvert_exporter": "python",
   "pygments_lexer": "ipython3",
   "version": "3.6.10"
  }
 },
 "nbformat": 4,
 "nbformat_minor": 4
}
